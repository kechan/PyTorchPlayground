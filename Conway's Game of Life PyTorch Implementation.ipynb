{
 "cells": [
  {
   "cell_type": "markdown",
   "metadata": {},
   "source": [
    "## Conway's Game of Life \n",
    "\n",
    "This is an exploration of running Life as a kernel convolution followed by a non-linear activation, which \n",
    "allows the use of deep learning framework to run simulations. This notebook shows how this can be done\n",
    "with PyTorch. \n",
    "\n",
    "**Note**: In terms of absolute speed and performance (for sparse configuration with interesting patterns), this method is far behind hash based methods on CPU even when run with GPU. PyTorch F.conv2d(...) works only with Float and Double, which makes this naive implementation memory inefficient. \n",
    "\n",
    "* https://www.ibiblio.org/lifepatterns/october1970.html (Scientific American 223 Oct 1970)\n",
    "* https://en.wikipedia.org/wiki/Conway%27s_Game_of_Life\n",
    "* http://golly.sourceforge.net (Golly)"
   ]
  },
  {
   "cell_type": "markdown",
   "metadata": {
    "heading_collapsed": true
   },
   "source": [
    "### Imports"
   ]
  },
  {
   "cell_type": "code",
   "execution_count": 1,
   "metadata": {
    "hidden": true
   },
   "outputs": [],
   "source": [
    "from pathlib import *\n",
    "import time\n",
    "\n",
    "import torch\n",
    "import torchvision\n",
    "import torch.nn as nn\n",
    "import torch.nn.functional as F\n",
    "\n",
    "from fastai.vision import *\n",
    "\n",
    "# import drawSvg as draw\n",
    "import IPython\n",
    "from io import BytesIO\n",
    "from matplotlib import pyplot as plt\n",
    "\n",
    "%load_ext autoreload\n",
    "%autoreload 2\n",
    "\n",
    "dev = torch.device(\"cuda\") if torch.cuda.is_available() else torch.device(\"cpu\")"
   ]
  },
  {
   "cell_type": "markdown",
   "metadata": {
    "heading_collapsed": true
   },
   "source": [
    "### Utilities"
   ]
  },
  {
   "cell_type": "code",
   "execution_count": 2,
   "metadata": {
    "hidden": true
   },
   "outputs": [],
   "source": [
    "Path.ls = lambda x: list(x.iterdir())\n",
    "def _describe(self):\n",
    "    print(f\"shape: {self.shape}\")\n",
    "    print(f\"dtyle: {self.dtype}\")\n",
    "    print(f\"min_val: {torch.min(self)}\")\n",
    "    print(f\"max_val: {torch.max(self)}\")\n",
    "    print(f\"type: {type(self)}\")\n",
    "\n",
    "torch.Tensor.describe = _describe"
   ]
  },
  {
   "cell_type": "markdown",
   "metadata": {
    "heading_collapsed": true
   },
   "source": [
    "### Visualization utilties"
   ]
  },
  {
   "cell_type": "code",
   "execution_count": 3,
   "metadata": {
    "hidden": true
   },
   "outputs": [],
   "source": [
    "def vis_stream(image, index):\n",
    "\n",
    "    plt.figure(figsize=(5, 5))\n",
    "    plt.imshow(image, cmap='gray')\n",
    "\n",
    "    plt.axis('off')\n",
    "    plt.title(f'iteration {index}')\n",
    "    plt.grid('off')\n",
    "    plt.tight_layout()\n",
    "\n",
    "    # Show visualization in a streaming fashion.\n",
    "    f = BytesIO()\n",
    "    plt.savefig(f, format='jpeg')\n",
    "    IPython.display.display(IPython.display.Image(data=f.getvalue()))\n",
    "    f.close()\n",
    "    plt.close()"
   ]
  },
  {
   "cell_type": "markdown",
   "metadata": {},
   "source": [
    "### Rule of the Game\n",
    "A convolution (with bias term) + nonlinear activation"
   ]
  },
  {
   "cell_type": "code",
   "execution_count": 21,
   "metadata": {},
   "outputs": [
    {
     "name": "stdout",
     "output_type": "stream",
     "text": [
      "shape: torch.Size([1, 1, 3, 3])\n",
      "dtyle: torch.float32\n",
      "min_val: 1.0\n",
      "max_val: 2.0\n",
      "type: <class 'torch.Tensor'>\n",
      "tensor([[[[2., 2., 2.],\n",
      "          [2., 1., 2.],\n",
      "          [2., 2., 2.]]]])\n"
     ]
    }
   ],
   "source": [
    "'''\n",
    "The rule in Conway's Game of Life can be expressed as 2 tensor operations\n",
    "\n",
    "1) 2D convolution with the following kernel\n",
    "\n",
    "     2  2  2\n",
    "     2  1  2\n",
    "     2  2  2 \n",
    "     \n",
    "2) add bias of -5     \n",
    "    \n",
    "2) Non-linear activation with this function:\n",
    "\n",
    "    (z >= 0) * (z <= 2)\n",
    "    \n",
    "'''\n",
    "kernel = 2*torch.ones((3,3)); kernel[1,1] = 1\n",
    "kernel = kernel[None, None, ...].to(dev)\n",
    "\n",
    "kernel.describe()\n",
    "print(kernel)\n",
    "\n",
    "def evolve(x, k):\n",
    "    z = F.conv2d(x, k, padding=1) - 5.0\n",
    "    a = torch.mul(torch.ge(z, 0), torch.le(z, 2))\n",
    "    return a.float()\n",
    "\n",
    "def place(pattern, X, at=(0, 0)):\n",
    "    h = pattern.shape[1]\n",
    "    w = pattern.shape[0]\n",
    "    x = at[0]\n",
    "    y = at[1]\n",
    "    \n",
    "    X[x:x+w, y:y+h] = pattern\n",
    "    \n",
    "    return X"
   ]
  },
  {
   "cell_type": "markdown",
   "metadata": {},
   "source": [
    "### Oscillators"
   ]
  },
  {
   "cell_type": "markdown",
   "metadata": {
    "heading_collapsed": true
   },
   "source": [
    "#### Blinker (period 2)"
   ]
  },
  {
   "cell_type": "code",
   "execution_count": null,
   "metadata": {
    "hidden": true
   },
   "outputs": [],
   "source": [
    "x_5_5 = torch.zeros(5, 5)\n",
    "x_5_5[2,1] = 1\n",
    "x_5_5[2,2] = 1\n",
    "x_5_5[2,3] = 1\n",
    "\n",
    "x_5_5 = x_5_5[None, None, ...].to(dev)\n",
    "print(x_5_5.shape)\n",
    "plt.imshow(1-np.squeeze(x_5_5.cpu().numpy()), cmap='gray')\n",
    "\n",
    "a = x_5_5"
   ]
  },
  {
   "cell_type": "markdown",
   "metadata": {
    "heading_collapsed": true
   },
   "source": [
    "#### Toad (period 2) "
   ]
  },
  {
   "cell_type": "code",
   "execution_count": null,
   "metadata": {
    "hidden": true
   },
   "outputs": [],
   "source": [
    "x_6_6 = torch.zeros(6, 6)\n",
    "\n",
    "x_6_6[2,2] = 1\n",
    "x_6_6[2,3] = 1\n",
    "x_6_6[2,4] = 1\n",
    "\n",
    "x_6_6[3,1] = 1\n",
    "x_6_6[3,2] = 1\n",
    "x_6_6[3,3] = 1\n",
    "\n",
    "x_6_6 = x_6_6[None, None, ...].to(dev)\n",
    "\n",
    "plt.imshow(1-np.squeeze(x_6_6.cpu().numpy()), cmap='gray')\n",
    "\n",
    "a = x_6_6"
   ]
  },
  {
   "cell_type": "markdown",
   "metadata": {
    "heading_collapsed": true
   },
   "source": [
    "#### Beacon (period 2)"
   ]
  },
  {
   "cell_type": "code",
   "execution_count": null,
   "metadata": {
    "hidden": true
   },
   "outputs": [],
   "source": [
    "x_6_6 = torch.zeros(6, 6)\n",
    "\n",
    "x_6_6[1,1] = 1\n",
    "x_6_6[1,2] = 1\n",
    "x_6_6[2,1] = 1\n",
    "x_6_6[2,2] = 1\n",
    "\n",
    "x_6_6[3,3] = 1\n",
    "x_6_6[3,4] = 1\n",
    "x_6_6[4,3] = 1\n",
    "x_6_6[4,4] = 1\n",
    "\n",
    "x_6_6 = x_6_6[None, None, ...].to(dev)\n",
    "\n",
    "plt.imshow(1-np.squeeze(x_6_6.cpu().numpy()), cmap='gray')\n",
    "\n",
    "a = x_6_6"
   ]
  },
  {
   "cell_type": "markdown",
   "metadata": {},
   "source": [
    "### Spaceships"
   ]
  },
  {
   "cell_type": "markdown",
   "metadata": {
    "heading_collapsed": true
   },
   "source": [
    "#### Glider"
   ]
  },
  {
   "cell_type": "code",
   "execution_count": null,
   "metadata": {
    "hidden": true
   },
   "outputs": [],
   "source": [
    "glider = torch.tensor([[1, 0, 1],\n",
    "                       [0, 1, 1],\n",
    "                       [0, 1, 0]], dtype=torch.float32)"
   ]
  },
  {
   "cell_type": "code",
   "execution_count": null,
   "metadata": {
    "hidden": true
   },
   "outputs": [],
   "source": [
    "x = torch.zeros(100, 100)\n",
    "x = place(glider, x, at=(0, 0))\n",
    "\n",
    "x = place(glider, x, at=(10, 10))\n",
    "\n",
    "x = x[None, None, ...].to(dev)\n",
    "\n",
    "plt.imshow(1-np.squeeze(x.cpu().numpy()), cmap='gray')\n",
    "\n",
    "a = x"
   ]
  },
  {
   "cell_type": "markdown",
   "metadata": {},
   "source": [
    "#### Light-weight spaceship (LWSS)"
   ]
  },
  {
   "cell_type": "code",
   "execution_count": 5,
   "metadata": {},
   "outputs": [],
   "source": [
    "LWSS = torch.tensor([[0, 1, 1, 1, 1],\n",
    "                     [1, 0, 0, 0, 1],\n",
    "                     [0, 0, 0, 0, 1],\n",
    "                     [1, 0, 0, 1, 0]], dtype=torch.float32)"
   ]
  },
  {
   "cell_type": "code",
   "execution_count": 37,
   "metadata": {},
   "outputs": [
    {
     "data": {
      "image/png": "[encoded data removed]",
      "text/plain": [
       "<Figure size 432x288 with 1 Axes>"
      ]
     },
     "metadata": {
      "needs_background": "light"
     },
     "output_type": "display_data"
    }
   ],
   "source": [
    "x = torch.zeros(100, 100)\n",
    "x = place(LWSS, x, at=(1, 1))\n",
    "\n",
    "x = place(LWSS, x, at=(15, 20))\n",
    "\n",
    "x = x[None, None, ...].to(dev)\n",
    "\n",
    "plt.imshow(1-np.squeeze(x.cpu().numpy()), cmap='gray')\n",
    "\n",
    "a = x"
   ]
  },
  {
   "cell_type": "markdown",
   "metadata": {},
   "source": [
    "#### Middle-weight spaceship (MWSS)"
   ]
  },
  {
   "cell_type": "code",
   "execution_count": 10,
   "metadata": {},
   "outputs": [],
   "source": [
    "MWSS = torch.tensor([[0, 1, 1, 0, 0, 0],\n",
    "                     [1, 1, 0, 1, 1, 1],\n",
    "                     [0, 1, 1, 1, 1, 1],\n",
    "                     [0, 0, 1, 1, 1, 0]], dtype=torch.float32)"
   ]
  },
  {
   "cell_type": "code",
   "execution_count": 32,
   "metadata": {},
   "outputs": [
    {
     "data": {
      "image/png": "[encoded data removed]",
      "text/plain": [
       "<Figure size 432x288 with 1 Axes>"
      ]
     },
     "metadata": {
      "needs_background": "light"
     },
     "output_type": "display_data"
    }
   ],
   "source": [
    "x = torch.zeros(100, 200)\n",
    "x = place(MWSS, x, at=(10, 190))\n",
    "\n",
    "x = place(MWSS, x, at=(30, 190))\n",
    "\n",
    "x = x[None, None, ...].to(dev)\n",
    "\n",
    "plt.imshow(1-np.squeeze(x.cpu().numpy()), cmap='gray')\n",
    "\n",
    "a = x"
   ]
  },
  {
   "cell_type": "markdown",
   "metadata": {},
   "source": [
    "#### Heavy-weight spaceship (HWSS)"
   ]
  },
  {
   "cell_type": "code",
   "execution_count": 40,
   "metadata": {},
   "outputs": [],
   "source": [
    "HWSS = torch.tensor([[1, 1, 1, 1, 1, 1, 0],\n",
    "                     [1, 0, 0, 0, 0, 0, 1],\n",
    "                     [1, 0, 0, 0, 0, 0, 0],\n",
    "                     [0, 1, 0, 0, 0, 0, 1],\n",
    "                     [0, 0, 0, 1, 1, 0, 0]], dtype=torch.float32)"
   ]
  },
  {
   "cell_type": "code",
   "execution_count": 41,
   "metadata": {},
   "outputs": [
    {
     "data": {
      "image/png": "[encoded data removed]",
      "text/plain": [
       "<Figure size 432x288 with 1 Axes>"
      ]
     },
     "metadata": {
      "needs_background": "light"
     },
     "output_type": "display_data"
    }
   ],
   "source": [
    "x = torch.zeros(100, 200)\n",
    "x = place(HWSS, x, at=(10, 190))\n",
    "\n",
    "x = place(HWSS, x, at=(30, 190))\n",
    "\n",
    "x = x[None, None, ...].to(dev)\n",
    "\n",
    "plt.imshow(1-np.squeeze(x.cpu().numpy()), cmap='gray')\n",
    "\n",
    "a = x"
   ]
  },
  {
   "cell_type": "markdown",
   "metadata": {
    "heading_collapsed": true
   },
   "source": [
    "### Random"
   ]
  },
  {
   "cell_type": "code",
   "execution_count": null,
   "metadata": {
    "hidden": true
   },
   "outputs": [],
   "source": [
    "# x_random = torch.randint(0, 2, (N, 100)).float()\n",
    "N = 100\n",
    "x_random = (torch.FloatTensor(N, N).uniform_() > 0.6).float()\n",
    "x_random = x_random[None, None, ...].to(dev)\n",
    "\n",
    "plt.grid(); plt.imshow(np.squeeze(1-x_random.cpu().numpy()), cmap='gray')\n",
    "\n",
    "a = x_random"
   ]
  },
  {
   "cell_type": "markdown",
   "metadata": {},
   "source": [
    "### Run simulation here"
   ]
  },
  {
   "cell_type": "code",
   "execution_count": 42,
   "metadata": {},
   "outputs": [
    {
     "data": {
      "image/jpeg": "[encoded data removed]",
      "text/plain": [
       "<IPython.core.display.Image object>"
      ]
     },
     "metadata": {},
     "output_type": "display_data"
    }
   ],
   "source": [
    "# Setup \"a\" the initial pattern by running one of the cell in the above section\n",
    "\n",
    "num_iteration = 100\n",
    "\n",
    "try:\n",
    "    for i in range(num_iteration):\n",
    "        a = evolve(a, kernel)\n",
    "\n",
    "#         time.sleep(0.5)        \n",
    "        vis_stream(1-np.squeeze(a.cpu().numpy()), i)\n",
    "        IPython.display.clear_output(wait=True)\n",
    "except KeyboardInterrupt:\n",
    "    plt.close()\n",
    "    print(\"Stream stopped.\")"
   ]
  },
  {
   "cell_type": "markdown",
   "metadata": {},
   "source": [
    "### Scratch Pad"
   ]
  },
  {
   "cell_type": "code",
   "execution_count": null,
   "metadata": {},
   "outputs": [],
   "source": [
    "# Population space X\n",
    "\n",
    "X = torch.zeros((2**8,3,3)); X[:,1,1] = 1; X\n",
    "\n",
    "for i in range(2**8):\n",
    "    X[i,0,0] = i & 1\n",
    "    X[i,0,1] = i >> 1 & 1\n",
    "    X[i,0,2] = i >> 2 & 1\n",
    "    X[i,1,0] = i >> 3 & 1\n",
    "    X[i,1,2] = i >> 4 & 1\n",
    "    X[i,2,0] = i >> 5 & 1\n",
    "    X[i,2,1] = i >> 6 & 1\n",
    "    X[i,2,2] = i >> 7 & 1\n",
    "        \n",
    "# reshape this into something F.conv2d likes\n",
    "X = X[:,None,:,:]\n",
    "X.shape"
   ]
  },
  {
   "cell_type": "code",
   "execution_count": null,
   "metadata": {},
   "outputs": [],
   "source": [
    "# kernel = torch.ones(3, 3); kernel[1, 1] = 0.5\n",
    "# kernel = kernel[None,None,...]; \n",
    "\n",
    "# kernel.describe(); print(kernel)"
   ]
  },
  {
   "cell_type": "code",
   "execution_count": null,
   "metadata": {},
   "outputs": [],
   "source": [
    "# x_test = X[3:4]    # grad 3rd and preserve shape\n",
    "# x_test = F.pad(x_test, pad=(1, 1, 1, 1), value=0)   #zero padding\n",
    "# x_test\n",
    "# F.conv2d(x_test, kernel)"
   ]
  },
  {
   "cell_type": "code",
   "execution_count": null,
   "metadata": {},
   "outputs": [],
   "source": [
    "F.conv2d(X[3:4], kernel, padding=1)\n",
    "F.threshold(-1*torch.ones(1), 1, 1)\n",
    "F.hardtanh(5*torch.ones(1), min_val=4, max_val=4)"
   ]
  },
  {
   "cell_type": "code",
   "execution_count": null,
   "metadata": {},
   "outputs": [],
   "source": [
    "z = torch.linspace(0, 17, steps=18); z\n",
    "torch.mul(torch.ge(z, 5), torch.le(z, 7))"
   ]
  },
  {
   "cell_type": "code",
   "execution_count": null,
   "metadata": {},
   "outputs": [],
   "source": [
    "# X o k2 \n",
    "x = X[3:4]\n",
    "print(x)\n",
    "z = F.conv2d(x, kernel, padding=1)\n",
    "#print(z)\n",
    "a = torch.mul(torch.ge(z, 5), torch.le(z, 7))\n",
    "print(a)"
   ]
  },
  {
   "cell_type": "code",
   "execution_count": null,
   "metadata": {},
   "outputs": [],
   "source": [
    "kernel = torch.ones(3, 1)\n",
    "kernel = kernel[None, None, ...]"
   ]
  },
  {
   "cell_type": "code",
   "execution_count": null,
   "metadata": {},
   "outputs": [],
   "source": [
    "X = F.conv2d(X[3:4], kernel, padding=1)\n",
    "X = F.conv2d(X, torch.transpose(kernel, 2, 3), padding=1)"
   ]
  },
  {
   "cell_type": "code",
   "execution_count": null,
   "metadata": {},
   "outputs": [],
   "source": [
    "kernel.shape"
   ]
  },
  {
   "cell_type": "code",
   "execution_count": null,
   "metadata": {},
   "outputs": [],
   "source": [
    "torch.transpose?"
   ]
  },
  {
   "cell_type": "code",
   "execution_count": null,
   "metadata": {},
   "outputs": [],
   "source": []
  }
 ],
 "metadata": {
  "kernelspec": {
   "display_name": "Python 3",
   "language": "python",
   "name": "python3"
  },
  "language_info": {
   "codemirror_mode": {
    "name": "ipython",
    "version": 3
   },
   "file_extension": ".py",
   "mimetype": "text/x-python",
   "name": "python",
   "nbconvert_exporter": "python",
   "pygments_lexer": "ipython3",
   "version": "3.7.1"
  }
 },
 "nbformat": 4,
 "nbformat_minor": 2
}
