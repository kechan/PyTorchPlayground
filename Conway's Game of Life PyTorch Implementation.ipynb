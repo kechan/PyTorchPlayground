{
 "cells": [
  {
   "cell_type": "code",
   "execution_count": null,
   "metadata": {},
   "outputs": [],
   "source": [
    "from pathlib import *\n",
    "import time\n",
    "\n",
    "import torch\n",
    "import torchvision\n",
    "import torch.nn as nn\n",
    "import torch.nn.functional as F\n",
    "\n",
    "from fastai.vision import *\n",
    "\n",
    "# import drawSvg as draw\n",
    "import IPython\n",
    "from io import BytesIO\n",
    "from matplotlib import pyplot as plt\n",
    "\n",
    "%load_ext autoreload\n",
    "%autoreload 2\n",
    "\n",
    "dev = torch.device(\"cuda\") if torch.cuda.is_available() else torch.device(\"cpu\")"
   ]
  },
  {
   "cell_type": "markdown",
   "metadata": {
    "heading_collapsed": true
   },
   "source": [
    "### Utilities"
   ]
  },
  {
   "cell_type": "code",
   "execution_count": null,
   "metadata": {
    "hidden": true
   },
   "outputs": [],
   "source": [
    "Path.ls = lambda x: list(x.iterdir())\n",
    "def _describe(self):\n",
    "    print(f\"shape: {self.shape}\")\n",
    "    print(f\"dtyle: {self.dtype}\")\n",
    "    print(f\"min_val: {torch.min(self)}\")\n",
    "    print(f\"max_val: {torch.max(self)}\")\n",
    "    print(f\"type: {type(self)}\")\n",
    "\n",
    "torch.Tensor.describe = _describe"
   ]
  },
  {
   "cell_type": "markdown",
   "metadata": {
    "heading_collapsed": true
   },
   "source": [
    "### Visualization utilties"
   ]
  },
  {
   "cell_type": "code",
   "execution_count": null,
   "metadata": {
    "hidden": true
   },
   "outputs": [],
   "source": [
    "def vis_stream(image, index):\n",
    "\n",
    "    plt.figure(figsize=(5, 5))\n",
    "    plt.imshow(image, cmap='gray')\n",
    "\n",
    "    plt.axis('off')\n",
    "    plt.title(f'iteration {index}')\n",
    "    plt.grid('off')\n",
    "    plt.tight_layout()\n",
    "\n",
    "    # Show visualization in a streaming fashion.\n",
    "    f = BytesIO()\n",
    "    plt.savefig(f, format='jpeg')\n",
    "    IPython.display.display(IPython.display.Image(data=f.getvalue()))\n",
    "    f.close()\n",
    "    plt.close()"
   ]
  },
  {
   "cell_type": "markdown",
   "metadata": {},
   "source": [
    "### Rule of the Game"
   ]
  },
  {
   "cell_type": "code",
   "execution_count": null,
   "metadata": {},
   "outputs": [],
   "source": [
    "'''\n",
    "The rule in Conway's Game of Life can be expressed as 2 tensor operations\n",
    "\n",
    "1) 2D convolution with the following kernel\n",
    "\n",
    "     2  2  2\n",
    "     2  1  2\n",
    "     2  2  2 \n",
    "    \n",
    "2) Non-linear activation with this function:\n",
    "\n",
    "    (z > 5) * (z < 7)\n",
    "    \n",
    "'''\n",
    "kernel = 2*torch.ones((3,3)); kernel[1,1] = 1\n",
    "kernel = kernel[None, None, ...].to(dev)\n",
    "\n",
    "kernel.describe()\n",
    "print(kernel)\n",
    "\n",
    "def evolve(x, k):\n",
    "    z = F.conv2d(x, k, padding=1)\n",
    "    a = torch.mul(torch.ge(z, 5), torch.le(z, 7))\n",
    "    return a.float()"
   ]
  },
  {
   "cell_type": "markdown",
   "metadata": {},
   "source": [
    "### Oscillators"
   ]
  },
  {
   "cell_type": "markdown",
   "metadata": {
    "heading_collapsed": true
   },
   "source": [
    "#### Blinker (period 2)"
   ]
  },
  {
   "cell_type": "code",
   "execution_count": null,
   "metadata": {
    "hidden": true
   },
   "outputs": [],
   "source": [
    "x_5_5 = torch.zeros(5, 5)\n",
    "x_5_5[2,1] = 1\n",
    "x_5_5[2,2] = 1\n",
    "x_5_5[2,3] = 1\n",
    "\n",
    "x_5_5 = x_5_5[None, None, ...] \n",
    "print(x_5_5.shape)\n",
    "plt.imshow(np.squeeze(x_5_5.numpy()), cmap='gray')"
   ]
  },
  {
   "cell_type": "code",
   "execution_count": null,
   "metadata": {
    "hidden": true
   },
   "outputs": [],
   "source": [
    "num_iteration = 10\n",
    "\n",
    "a = x_5_5\n",
    "\n",
    "try:\n",
    "    for i in range(num_iteration):\n",
    "        a = evolve(a, kernel)\n",
    "\n",
    "        time.sleep(0.5)\n",
    "        \n",
    "        vis_stream(np.squeeze(a.numpy()), i)\n",
    "        IPython.display.clear_output(wait=True)\n",
    "except KeyboardInterrupt:\n",
    "    plt.close()\n",
    "    print(\"Stream stopped.\")"
   ]
  },
  {
   "cell_type": "markdown",
   "metadata": {
    "heading_collapsed": true
   },
   "source": [
    "#### Toad (period 2) "
   ]
  },
  {
   "cell_type": "code",
   "execution_count": null,
   "metadata": {
    "hidden": true
   },
   "outputs": [],
   "source": [
    "x_6_6 = torch.zeros(6, 6)\n",
    "\n",
    "x_6_6[2,2] = 1\n",
    "x_6_6[2,3] = 1\n",
    "x_6_6[2,4] = 1\n",
    "\n",
    "x_6_6[3,1] = 1\n",
    "x_6_6[3,2] = 1\n",
    "x_6_6[3,3] = 1\n",
    "\n",
    "x_6_6 = x_6_6[None, None, ...] \n",
    "\n",
    "plt.imshow(np.squeeze(x_6_6.numpy()), cmap='gray')"
   ]
  },
  {
   "cell_type": "code",
   "execution_count": null,
   "metadata": {
    "hidden": true
   },
   "outputs": [],
   "source": [
    "num_iteration = 20\n",
    "\n",
    "a = x_6_6\n",
    "\n",
    "try:\n",
    "    for i in range(num_iteration):\n",
    "        a = evolve(a, kernel)\n",
    "\n",
    "        time.sleep(0.5)\n",
    "        \n",
    "        vis_stream(np.squeeze(a.numpy()), i)\n",
    "        IPython.display.clear_output(wait=True)\n",
    "except KeyboardInterrupt:\n",
    "    plt.close()\n",
    "    print(\"Stream stopped.\")"
   ]
  },
  {
   "cell_type": "markdown",
   "metadata": {
    "heading_collapsed": true
   },
   "source": [
    "#### Beacon (period 2)"
   ]
  },
  {
   "cell_type": "code",
   "execution_count": null,
   "metadata": {
    "hidden": true
   },
   "outputs": [],
   "source": [
    "x_6_6 = torch.zeros(6, 6)\n",
    "\n",
    "x_6_6[1,1] = 1\n",
    "x_6_6[1,2] = 1\n",
    "x_6_6[2,1] = 1\n",
    "x_6_6[2,2] = 1\n",
    "\n",
    "x_6_6[3,3] = 1\n",
    "x_6_6[3,4] = 1\n",
    "x_6_6[4,3] = 1\n",
    "x_6_6[4,4] = 1\n",
    "\n",
    "x_6_6 = x_6_6[None, None, ...] \n",
    "\n",
    "plt.imshow(np.squeeze(x_6_6.numpy()), cmap='gray')"
   ]
  },
  {
   "cell_type": "code",
   "execution_count": null,
   "metadata": {
    "hidden": true
   },
   "outputs": [],
   "source": [
    "num_iteration = 10\n",
    "\n",
    "a = x_6_6\n",
    "\n",
    "try:\n",
    "    for i in range(num_iteration):\n",
    "        a = evolve(a, kernel)\n",
    "\n",
    "        time.sleep(0.5)\n",
    "        \n",
    "        vis_stream(1-np.squeeze(a.numpy()), i)\n",
    "        IPython.display.clear_output(wait=True)\n",
    "except KeyboardInterrupt:\n",
    "    plt.close()\n",
    "    print(\"Stream stopped.\")"
   ]
  },
  {
   "cell_type": "markdown",
   "metadata": {},
   "source": [
    "#### Random"
   ]
  },
  {
   "cell_type": "code",
   "execution_count": null,
   "metadata": {},
   "outputs": [],
   "source": [
    "x_random = torch.randint(0, 2, (100, 100)).float()\n",
    "x_random = x_random[None, None, ...].to(dev)\n",
    "\n",
    "plt.imshow(np.squeeze(x_random.numpy()), cmap='gray')"
   ]
  },
  {
   "cell_type": "code",
   "execution_count": null,
   "metadata": {},
   "outputs": [],
   "source": [
    "num_iteration = 100\n",
    "\n",
    "#a = x_random\n",
    "\n",
    "try:\n",
    "    for i in range(num_iteration):\n",
    "        a = evolve(a, kernel)\n",
    "\n",
    "#         time.sleep(0.5)\n",
    "        \n",
    "        vis_stream(1-np.squeeze(a.numpy()), i)\n",
    "        IPython.display.clear_output(wait=True)\n",
    "except KeyboardInterrupt:\n",
    "    plt.close()\n",
    "    print(\"Stream stopped.\")"
   ]
  },
  {
   "cell_type": "code",
   "execution_count": null,
   "metadata": {},
   "outputs": [],
   "source": []
  },
  {
   "cell_type": "markdown",
   "metadata": {
    "heading_collapsed": true
   },
   "source": [
    "### Scratch Pad"
   ]
  },
  {
   "cell_type": "code",
   "execution_count": null,
   "metadata": {
    "hidden": true
   },
   "outputs": [],
   "source": [
    "# Population space X\n",
    "\n",
    "X = torch.zeros((2**8,3,3)); X[:,1,1] = 1; X\n",
    "\n",
    "for i in range(2**8):\n",
    "    X[i,0,0] = i & 1\n",
    "    X[i,0,1] = i >> 1 & 1\n",
    "    X[i,0,2] = i >> 2 & 1\n",
    "    X[i,1,0] = i >> 3 & 1\n",
    "    X[i,1,2] = i >> 4 & 1\n",
    "    X[i,2,0] = i >> 5 & 1\n",
    "    X[i,2,1] = i >> 6 & 1\n",
    "    X[i,2,2] = i >> 7 & 1\n",
    "        \n",
    "# reshape this into something F.conv2d likes\n",
    "X = X[:,None,:,:]\n",
    "X.shape"
   ]
  },
  {
   "cell_type": "code",
   "execution_count": null,
   "metadata": {
    "hidden": true
   },
   "outputs": [],
   "source": [
    "# kernel = torch.ones(3, 3); kernel[1, 1] = 0.5\n",
    "# kernel = kernel[None,None,...]; \n",
    "\n",
    "# kernel.describe(); print(kernel)"
   ]
  },
  {
   "cell_type": "code",
   "execution_count": null,
   "metadata": {
    "hidden": true
   },
   "outputs": [],
   "source": [
    "# x_test = X[3:4]    # grad 3rd and preserve shape\n",
    "# x_test = F.pad(x_test, pad=(1, 1, 1, 1), value=0)   #zero padding\n",
    "# x_test\n",
    "# F.conv2d(x_test, kernel)"
   ]
  },
  {
   "cell_type": "code",
   "execution_count": null,
   "metadata": {
    "hidden": true
   },
   "outputs": [],
   "source": [
    "F.conv2d(X[3:4], kernel, padding=1)\n",
    "F.threshold(-1*torch.ones(1), 1, 1)\n",
    "F.hardtanh(5*torch.ones(1), min_val=4, max_val=4)"
   ]
  },
  {
   "cell_type": "code",
   "execution_count": null,
   "metadata": {
    "hidden": true
   },
   "outputs": [],
   "source": [
    "z = torch.linspace(0, 17, steps=18); z\n",
    "torch.mul(torch.ge(z, 5), torch.le(z, 7))"
   ]
  },
  {
   "cell_type": "code",
   "execution_count": null,
   "metadata": {
    "hidden": true
   },
   "outputs": [],
   "source": [
    "# X o k2 \n",
    "x = X[3:4]\n",
    "print(x)\n",
    "z = F.conv2d(x, kernel, padding=1)\n",
    "#print(z)\n",
    "a = torch.mul(torch.ge(z, 5), torch.le(z, 7))\n",
    "print(a)"
   ]
  }
 ],
 "metadata": {
  "kernelspec": {
   "display_name": "Python 3",
   "language": "python",
   "name": "python3"
  },
  "language_info": {
   "codemirror_mode": {
    "name": "ipython",
    "version": 3
   },
   "file_extension": ".py",
   "mimetype": "text/x-python",
   "name": "python",
   "nbconvert_exporter": "python",
   "pygments_lexer": "ipython3",
   "version": "3.7.1"
  }
 },
 "nbformat": 4,
 "nbformat_minor": 2
}
